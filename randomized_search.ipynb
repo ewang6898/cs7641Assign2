{
 "cells": [
  {
   "cell_type": "markdown",
   "metadata": {},
   "source": [
    "# Randomized search to find neural network weights\n",
    "We will use three local random search algorithms, viz. randomized hill climbing, simulated annealing and a genetic algorithm."
   ]
  },
  {
   "cell_type": "markdown",
   "metadata": {},
   "source": [
    "## Data loading and preprocessing\n",
    "Let's load the data, standardize it and split it into training and test sets."
   ]
  },
  {
   "cell_type": "code",
   "execution_count": null,
   "metadata": {},
   "outputs": [],
   "source": [
    "from load_data import load_breast_cancer_data\n",
    "\n",
    "X, y = load_breast_cancer_data('../data/breast-cancer-wisconsin-data/data.csv')\n",
    "#X, y = load_mushroom_data('../data/mushroom-classification/mushrooms.csv')\n",
    "#X, y = load_wine_quality_data('../data/wine-quality/winequality-white.csv')\n",
    "print('Total number of examples in the dataset: %d' % X.shape[0])\n",
    "print('Fraction of positive examples: %.2f%%' % (y[y == 1].shape[0]/y.shape[0]*100.0))\n",
    "\n",
    "# Standardize data\n",
    "X = preprocessing.scale(X)\n",
    "\n",
    "# Split into training and test data. Use random_state to get the same results in every run\n",
    "X_train, X_test, y_train, y_test = train_test_split(X, y, test_size=0.4, random_state=18)"
   ]
  },
  {
   "cell_type": "markdown",
   "metadata": {},
   "source": [
    "## Initialize neural network"
   ]
  },
  {
   "cell_type": "code",
   "execution_count": null,
   "metadata": {},
   "outputs": [],
   "source": [
    "from sklearn.neural_network import MLPClassifier\n",
    "\n",
    "nn = MLPClassifier(hidden_layer_sizes=(5, 2), random_state=7, max_iter=1)"
   ]
  },
  {
   "cell_type": "markdown",
   "metadata": {},
   "source": [
    "## Randomized hill climbing"
   ]
  },
  {
   "cell_type": "code",
   "execution_count": null,
   "metadata": {},
   "outputs": [],
   "source": []
  }
 ],
 "metadata": {
  "kernelspec": {
   "display_name": "Python 3",
   "language": "python",
   "name": "python3"
  },
  "language_info": {
   "codemirror_mode": {
    "name": "ipython",
    "version": 3
   },
   "file_extension": ".py",
   "mimetype": "text/x-python",
   "name": "python",
   "nbconvert_exporter": "python",
   "pygments_lexer": "ipython3",
   "version": "3.6.5"
  }
 },
 "nbformat": 4,
 "nbformat_minor": 2
}
